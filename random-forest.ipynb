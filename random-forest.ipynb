{
 "cells": [
  {
   "cell_type": "code",
   "execution_count": 2,
   "metadata": {},
   "outputs": [],
   "source": [
    "from scipy import stats\n",
    "import pandas as pd\n",
    "\n",
    "training_data = pd.read_csv('combined-training.csv')\n",
    "test_data = pd.read_csv('combined-test.csv')\n",
    "\n",
    "#Calculating z-scores\n",
    "z_scores = stats.zscore(training_data[['x1', 'x4', 'x5', 'x6', 'x7']])\n",
    "\n",
    "#Detecting outliers\n",
    "outliers = (abs(z_scores) > 3).any(axis=1)\n",
    "\n",
    "#Removing outliers and saving the cleaned data\n",
    "cleaned_data = training_data[~outliers]\n",
    "\n"
   ]
  },
  {
   "cell_type": "code",
   "execution_count": 3,
   "metadata": {},
   "outputs": [
    {
     "name": "stdout",
     "output_type": "stream",
     "text": [
      "R-squared: 0.8006\n",
      "Mean Squared Error: 82.1019\n",
      "Feature Importance: [0.10401986 0.5443496  0.06775944 0.06054052 0.22333057]\n"
     ]
    }
   ],
   "source": [
    "from sklearn.ensemble import RandomForestRegressor\n",
    "from sklearn.metrics import mean_squared_error, r2_score\n",
    "\n",
    "#Choosing the features of the training data\n",
    "X_train = cleaned_data[['x1', 'x4', 'x5', 'x6', 'x7']]\n",
    "Y_train = cleaned_data['BIS']\n",
    "\n",
    "#Choosing the features of the test data\n",
    "X_test = test_data[['x1', 'x4', 'x5', 'x6', 'x7']]\n",
    "Y_test = test_data['BIS']\n",
    "\n",
    "#Creating random forest model\n",
    "model = RandomForestRegressor(max_depth=10, min_samples_leaf=20, random_state=42)\n",
    "\n",
    "#Training model\n",
    "model.fit(X_train, Y_train)\n",
    "\n",
    "#Predicting BIS values\n",
    "Y_pred = model.predict(X_test)\n",
    "\n",
    "#Evaluating the model\n",
    "mse = mean_squared_error(Y_test, Y_pred)\n",
    "r2 = r2_score(Y_test, Y_pred)\n",
    "\n",
    "print(f'R-squared: {r2:.4f}')\n",
    "print(f'Mean Squared Error: {mse:.4f}')\n",
    "\n",
    "#feature importance\n",
    "feature_importance = model.feature_importances_\n",
    "print(f'Feature Importance: {feature_importance}')"
   ]
  }
 ],
 "metadata": {
  "kernelspec": {
   "display_name": "sklearn-env",
   "language": "python",
   "name": "python3"
  },
  "language_info": {
   "codemirror_mode": {
    "name": "ipython",
    "version": 3
   },
   "file_extension": ".py",
   "mimetype": "text/x-python",
   "name": "python",
   "nbconvert_exporter": "python",
   "pygments_lexer": "ipython3",
   "version": "3.12.6"
  }
 },
 "nbformat": 4,
 "nbformat_minor": 2
}

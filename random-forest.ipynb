{
 "cells": [
  {
   "cell_type": "code",
   "execution_count": 19,
   "metadata": {},
   "outputs": [],
   "source": [
    "from scipy import stats\n",
    "import pandas as pd\n",
    "\n",
    "training_data = pd.read_csv('combined-training.csv')\n",
    "test_data = pd.read_csv('combined-test.csv')\n",
    "\n",
    "#Calculating z-scores\n",
    "z_scores = stats.zscore(training_data[['x1', 'x4', 'x5', 'x6', 'x7']])\n",
    "\n",
    "#Detecting outliers\n",
    "outliers = (abs(z_scores) > 3).any(axis=1)\n",
    "\n",
    "#Removing outliers and saving the cleaned data\n",
    "cleaned_data = training_data[~outliers]\n",
    "\n"
   ]
  }
 ],
 "metadata": {
  "kernelspec": {
   "display_name": "sklearn-env",
   "language": "python",
   "name": "python3"
  },
  "language_info": {
   "codemirror_mode": {
    "name": "ipython",
    "version": 3
   },
   "file_extension": ".py",
   "mimetype": "text/x-python",
   "name": "python",
   "nbconvert_exporter": "python",
   "pygments_lexer": "ipython3",
   "version": "3.12.6"
  }
 },
 "nbformat": 4,
 "nbformat_minor": 2
}
